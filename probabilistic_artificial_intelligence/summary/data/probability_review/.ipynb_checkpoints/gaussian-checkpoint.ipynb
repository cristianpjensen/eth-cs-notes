{
 "cells": [
  {
   "cell_type": "code",
   "execution_count": null,
   "id": "54497bde",
   "metadata": {},
   "outputs": [],
   "source": [
    "import numpy as np\n",
    "import matplotlib.pyplot as plt\n",
    "import pandas as pd\n",
    "from scipy import stats"
   ]
  },
  {
   "cell_type": "code",
   "execution_count": null,
   "id": "bb32246a",
   "metadata": {},
   "outputs": [],
   "source": [
    "size = 50\n",
    "\n",
    "x = np.linspace(-3, 3, size)\n",
    "y = np.linspace(-3, 3, size)\n",
    "(xx, yy) = np.meshgrid(x, y)\n",
    "points = np.stack((xx, yy), axis=-1).reshape(-1, 2)"
   ]
  },
  {
   "cell_type": "code",
   "execution_count": null,
   "id": "7584e2df",
   "metadata": {},
   "outputs": [],
   "source": [
    "mu = np.array([0, 0])\n",
    "sigma = np.array([\n",
    "    [1, 0],\n",
    "    [0, 1]\n",
    "])\n",
    "\n",
    "values1 = stats.multivariate_normal.pdf(points, mu, sigma)\n",
    "\n",
    "plt.imshow(values1.reshape(size, size))\n",
    "plt.show()"
   ]
  },
  {
   "cell_type": "code",
   "execution_count": null,
   "id": "cbddf69d",
   "metadata": {},
   "outputs": [],
   "source": [
    "mu = np.array([0, 0])\n",
    "sigma = np.array([\n",
    "    [1, 0.5],\n",
    "    [0.5, 1]\n",
    "])\n",
    "\n",
    "values2 = stats.multivariate_normal.pdf(points, mu, sigma)\n",
    "\n",
    "plt.imshow(values2.reshape(size, size))\n",
    "plt.show()"
   ]
  },
  {
   "cell_type": "code",
   "execution_count": null,
   "id": "5ae0bea3",
   "metadata": {},
   "outputs": [],
   "source": [
    "df = pd.DataFrame(np.concatenate([points, values1[:, np.newaxis], values2[:, np.newaxis]], axis=1), columns=[\"x\", \"y\", \"identity_sigma\", \"uneven_sigma\"])"
   ]
  },
  {
   "cell_type": "code",
   "execution_count": null,
   "id": "aab57239",
   "metadata": {},
   "outputs": [],
   "source": [
    "df.to_csv(\"gaussian_2d.csv\", index=False)"
   ]
  },
  {
   "cell_type": "code",
   "execution_count": null,
   "id": "e0f40681",
   "metadata": {},
   "outputs": [],
   "source": []
  }
 ],
 "metadata": {
  "kernelspec": {
   "display_name": "Python 3 (ipykernel)",
   "language": "python",
   "name": "python3"
  },
  "language_info": {
   "codemirror_mode": {
    "name": "ipython",
    "version": 3
   },
   "file_extension": ".py",
   "mimetype": "text/x-python",
   "name": "python",
   "nbconvert_exporter": "python",
   "pygments_lexer": "ipython3",
   "version": "3.8.10"
  }
 },
 "nbformat": 4,
 "nbformat_minor": 5
}
